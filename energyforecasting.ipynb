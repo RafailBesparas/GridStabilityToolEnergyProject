{
 "cells": [
  {
   "cell_type": "code",
   "execution_count": 1,
   "metadata": {},
   "outputs": [
    {
     "data": {
      "text/plain": [
       "<bound method NDFrame.head of                Timestamp  Market_Price_€/MWh  Temperature_C  Wind_Speed_m/s  \\\n",
       "0    2023-01-01 00:00:00           71.785023       5.906648       17.175776   \n",
       "1    2023-01-01 01:00:00          155.174108      20.632449       17.415516   \n",
       "2    2023-01-01 02:00:00          183.299075      19.753218       17.606743   \n",
       "3    2023-01-01 03:00:00          169.926178      22.854892       24.875910   \n",
       "4    2023-01-01 04:00:00           70.748939      28.445869       15.172276   \n",
       "..                   ...                 ...            ...             ...   \n",
       "716  2023-01-30 20:00:00           38.493122      11.997940       16.944195   \n",
       "717  2023-01-30 21:00:00          180.940871       9.697343       19.336328   \n",
       "718  2023-01-30 22:00:00          174.281932      14.165643       11.227650   \n",
       "719  2023-01-30 23:00:00          157.475133      16.945891        4.991232   \n",
       "720  2023-01-31 00:00:00           93.753223       8.535481       14.385280   \n",
       "\n",
       "     Solar_Radiation_W/m^2  Solar_Generation_MW  Wind_Generation_MW  \n",
       "0               360.056358            54.008454          858.788820  \n",
       "1               525.881061            78.882159          870.775821  \n",
       "2               187.123363            28.068504          880.337174  \n",
       "3               481.999619            72.299943         1243.795508  \n",
       "4               215.437523            32.315628          758.613788  \n",
       "..                     ...                  ...                 ...  \n",
       "716             511.398625            76.709794          847.209739  \n",
       "717             316.000659            47.400099          966.816398  \n",
       "718             500.011574            75.001736          561.382496  \n",
       "719             376.972417            56.545862          249.561580  \n",
       "720             654.080441            98.112066          719.263995  \n",
       "\n",
       "[721 rows x 7 columns]>"
      ]
     },
     "execution_count": 1,
     "metadata": {},
     "output_type": "execute_result"
    }
   ],
   "source": [
    "import pandas as pd\n",
    "import numpy as np\n",
    "\n",
    "df = pd.read_csv(\"electricity_market_data.csv\")\n",
    "df.head"
   ]
  },
  {
   "cell_type": "code",
   "execution_count": 4,
   "metadata": {},
   "outputs": [
    {
     "name": "stdout",
     "output_type": "stream",
     "text": [
      "The number of duplicate rows is: Timestamp                0\n",
      "Market_Price_€/MWh       0\n",
      "Temperature_C            0\n",
      "Wind_Speed_m/s           0\n",
      "Solar_Radiation_W/m^2    0\n",
      "Solar_Generation_MW      0\n",
      "Wind_Generation_MW       0\n",
      "dtype: int64\n"
     ]
    }
   ],
   "source": [
    "# check the data for missing values\n",
    "# check missing data\n",
    "count = df.isnull().sum()\n",
    "print(f\"The number of duplicate rows is: {count}\")"
   ]
  },
  {
   "cell_type": "code",
   "execution_count": 7,
   "metadata": {},
   "outputs": [
    {
     "data": {
      "text/plain": [
       "count    721.000000\n",
       "mean     109.101603\n",
       "std       52.650120\n",
       "min       20.005569\n",
       "25%       60.812066\n",
       "50%      105.868946\n",
       "75%      154.712256\n",
       "max      199.837141\n",
       "Name: Market_Price_€/MWh, dtype: float64"
      ]
     },
     "execution_count": 7,
     "metadata": {},
     "output_type": "execute_result"
    }
   ],
   "source": [
    "df['Market_Price_€/MWh'].describe()\n",
    "# The mean market price is 109 while the maximum price somebody is The Megawatt-hour (MWh). So for 1 Megawatt per \n",
    "# Hour the consumer has to pay 109 median, 199 was the maximum and 20 the minimum"
   ]
  },
  {
   "cell_type": "code",
   "execution_count": null,
   "metadata": {},
   "outputs": [],
   "source": []
  }
 ],
 "metadata": {
  "kernelspec": {
   "display_name": "venv",
   "language": "python",
   "name": "python3"
  },
  "language_info": {
   "codemirror_mode": {
    "name": "ipython",
    "version": 3
   },
   "file_extension": ".py",
   "mimetype": "text/x-python",
   "name": "python",
   "nbconvert_exporter": "python",
   "pygments_lexer": "ipython3",
   "version": "3.9.13"
  }
 },
 "nbformat": 4,
 "nbformat_minor": 2
}
