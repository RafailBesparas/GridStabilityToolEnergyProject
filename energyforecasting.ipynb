{
 "cells": [
  {
   "cell_type": "code",
   "execution_count": 1,
   "metadata": {},
   "outputs": [
    {
     "data": {
      "text/plain": [
       "<bound method NDFrame.head of                  Timestamp  Market_Price_€/MWh  Temperature_C  Wind_Speed_m/s  \\\n",
       "0      2023-01-01 00:00:00           57.647482      11.862304       20.203702   \n",
       "1      2023-01-01 01:00:00           68.754874       5.530957        3.341909   \n",
       "2      2023-01-01 02:00:00          123.842069      17.032236        1.204323   \n",
       "3      2023-01-01 03:00:00           71.518072      20.811796       18.694352   \n",
       "4      2023-01-01 04:00:00          127.713857      19.440268       15.325984   \n",
       "...                    ...                 ...            ...             ...   \n",
       "17516  2024-12-30 20:00:00          191.818874      23.767994       13.457084   \n",
       "17517  2024-12-30 21:00:00          139.845845       1.081919       24.841503   \n",
       "17518  2024-12-30 22:00:00          128.763370      23.755904       13.763472   \n",
       "17519  2024-12-30 23:00:00           47.250064       7.711080       16.706422   \n",
       "17520  2024-12-31 00:00:00          114.458217      15.174502       11.972659   \n",
       "\n",
       "       Solar_Radiation_W/m^2  Solar_Generation_MW  Wind_Generation_MW  \n",
       "0                 389.819125            58.472869         1010.185086  \n",
       "1                 135.256514            20.288477          167.095460  \n",
       "2                 262.314456            39.347168           60.216137  \n",
       "3                 378.232499            56.734875          934.717596  \n",
       "4                 233.775830            35.066374          766.299212  \n",
       "...                      ...                  ...                 ...  \n",
       "17516             262.622914            39.393437          672.854188  \n",
       "17517             157.603418            23.640513         1242.075173  \n",
       "17518             174.499707            26.174956          688.173608  \n",
       "17519              67.486773            10.123016          835.321082  \n",
       "17520             598.260510            89.739077          598.632961  \n",
       "\n",
       "[17521 rows x 7 columns]>"
      ]
     },
     "execution_count": 1,
     "metadata": {},
     "output_type": "execute_result"
    }
   ],
   "source": [
    "import pandas as pd\n",
    "import numpy as np\n",
    "\n",
    "df = pd.read_csv(\"electricity_market_data.csv\")\n",
    "df.head"
   ]
  },
  {
   "cell_type": "code",
   "execution_count": 2,
   "metadata": {},
   "outputs": [
    {
     "name": "stdout",
     "output_type": "stream",
     "text": [
      "The number of duplicate rows is: Timestamp                0\n",
      "Market_Price_€/MWh       0\n",
      "Temperature_C            0\n",
      "Wind_Speed_m/s           0\n",
      "Solar_Radiation_W/m^2    0\n",
      "Solar_Generation_MW      0\n",
      "Wind_Generation_MW       0\n",
      "dtype: int64\n"
     ]
    }
   ],
   "source": [
    "# check the data for missing values\n",
    "# check missing data\n",
    "count = df.isnull().sum()\n",
    "print(f\"The number of duplicate rows is: {count}\")"
   ]
  },
  {
   "cell_type": "code",
   "execution_count": 3,
   "metadata": {},
   "outputs": [
    {
     "data": {
      "text/plain": [
       "count    17521.000000\n",
       "mean       109.551596\n",
       "std         52.324864\n",
       "min         20.004628\n",
       "25%         64.139015\n",
       "50%        109.303012\n",
       "75%        154.767113\n",
       "max        199.987021\n",
       "Name: Market_Price_€/MWh, dtype: float64"
      ]
     },
     "execution_count": 3,
     "metadata": {},
     "output_type": "execute_result"
    }
   ],
   "source": [
    "df['Market_Price_€/MWh'].describe()\n",
    "# The mean market price is 109 while the maximum price somebody is The Megawatt-hour (MWh). So for 1 Megawatt per \n",
    "# Hour the consumer has to pay 109 median, 199 was the maximum and 20 the minimum"
   ]
  },
  {
   "cell_type": "code",
   "execution_count": 4,
   "metadata": {},
   "outputs": [
    {
     "data": {
      "text/html": [
       "<div>\n",
       "<style scoped>\n",
       "    .dataframe tbody tr th:only-of-type {\n",
       "        vertical-align: middle;\n",
       "    }\n",
       "\n",
       "    .dataframe tbody tr th {\n",
       "        vertical-align: top;\n",
       "    }\n",
       "\n",
       "    .dataframe thead th {\n",
       "        text-align: right;\n",
       "    }\n",
       "</style>\n",
       "<table border=\"1\" class=\"dataframe\">\n",
       "  <thead>\n",
       "    <tr style=\"text-align: right;\">\n",
       "      <th></th>\n",
       "      <th>Date</th>\n",
       "      <th>Average_Market_Price_€/Day</th>\n",
       "    </tr>\n",
       "  </thead>\n",
       "  <tbody>\n",
       "    <tr>\n",
       "      <th>0</th>\n",
       "      <td>2023-01-01</td>\n",
       "      <td>112.315634</td>\n",
       "    </tr>\n",
       "    <tr>\n",
       "      <th>1</th>\n",
       "      <td>2023-01-02</td>\n",
       "      <td>94.924160</td>\n",
       "    </tr>\n",
       "    <tr>\n",
       "      <th>2</th>\n",
       "      <td>2023-01-03</td>\n",
       "      <td>126.176283</td>\n",
       "    </tr>\n",
       "    <tr>\n",
       "      <th>3</th>\n",
       "      <td>2023-01-04</td>\n",
       "      <td>109.824965</td>\n",
       "    </tr>\n",
       "    <tr>\n",
       "      <th>4</th>\n",
       "      <td>2023-01-05</td>\n",
       "      <td>101.348787</td>\n",
       "    </tr>\n",
       "    <tr>\n",
       "      <th>...</th>\n",
       "      <td>...</td>\n",
       "      <td>...</td>\n",
       "    </tr>\n",
       "    <tr>\n",
       "      <th>726</th>\n",
       "      <td>2024-12-27</td>\n",
       "      <td>111.909005</td>\n",
       "    </tr>\n",
       "    <tr>\n",
       "      <th>727</th>\n",
       "      <td>2024-12-28</td>\n",
       "      <td>110.423448</td>\n",
       "    </tr>\n",
       "    <tr>\n",
       "      <th>728</th>\n",
       "      <td>2024-12-29</td>\n",
       "      <td>99.129916</td>\n",
       "    </tr>\n",
       "    <tr>\n",
       "      <th>729</th>\n",
       "      <td>2024-12-30</td>\n",
       "      <td>115.946702</td>\n",
       "    </tr>\n",
       "    <tr>\n",
       "      <th>730</th>\n",
       "      <td>2024-12-31</td>\n",
       "      <td>114.458217</td>\n",
       "    </tr>\n",
       "  </tbody>\n",
       "</table>\n",
       "<p>731 rows × 2 columns</p>\n",
       "</div>"
      ],
      "text/plain": [
       "           Date  Average_Market_Price_€/Day\n",
       "0    2023-01-01                  112.315634\n",
       "1    2023-01-02                   94.924160\n",
       "2    2023-01-03                  126.176283\n",
       "3    2023-01-04                  109.824965\n",
       "4    2023-01-05                  101.348787\n",
       "..          ...                         ...\n",
       "726  2024-12-27                  111.909005\n",
       "727  2024-12-28                  110.423448\n",
       "728  2024-12-29                   99.129916\n",
       "729  2024-12-30                  115.946702\n",
       "730  2024-12-31                  114.458217\n",
       "\n",
       "[731 rows x 2 columns]"
      ]
     },
     "execution_count": 4,
     "metadata": {},
     "output_type": "execute_result"
    }
   ],
   "source": [
    "# Create a feature Market Price Feature per day\n",
    "\n",
    "# Step 1 Ensure Timestamp is in Dateformat\n",
    "df['Timestamp'] = pd.to_datetime(df['Timestamp'])\n",
    "\n",
    "# Step 2 Sort the data by the first timespamp 1 January 2023  00:00:00\n",
    "df = df.sort_values(by='Timestamp')\n",
    "\n",
    "# Extract the date from the Timestamp\n",
    "df['Date'] = df['Timestamp'].dt.date\n",
    "\n",
    "# Group by Date and calculate the mean market price\n",
    "daily_market_price = df.groupby('Date')['Market_Price_€/MWh'].mean().reset_index()\n",
    "\n",
    "# Rename columns for clarity \n",
    "daily_market_price.columns = ['Date', 'Average_Market_Price_€/Day']\n",
    "\n",
    "daily_market_price"
   ]
  },
  {
   "cell_type": "code",
   "execution_count": 5,
   "metadata": {},
   "outputs": [
    {
     "data": {
      "text/plain": [
       "Date                          2024-12-31\n",
       "Average_Market_Price_€/Day    144.936409\n",
       "dtype: object"
      ]
     },
     "execution_count": 5,
     "metadata": {},
     "output_type": "execute_result"
    }
   ],
   "source": [
    "# Maximum price to pay for Electricity\n",
    "daily_market_price.max()"
   ]
  },
  {
   "cell_type": "code",
   "execution_count": 6,
   "metadata": {},
   "outputs": [
    {
     "data": {
      "text/plain": [
       "Date                          2023-01-01\n",
       "Average_Market_Price_€/Day     72.325438\n",
       "dtype: object"
      ]
     },
     "execution_count": 6,
     "metadata": {},
     "output_type": "execute_result"
    }
   ],
   "source": [
    "# Minimum Price to pay for Electricity \n",
    "daily_market_price.min()"
   ]
  },
  {
   "cell_type": "code",
   "execution_count": null,
   "metadata": {},
   "outputs": [],
   "source": []
  }
 ],
 "metadata": {
  "kernelspec": {
   "display_name": "venv",
   "language": "python",
   "name": "python3"
  },
  "language_info": {
   "codemirror_mode": {
    "name": "ipython",
    "version": 3
   },
   "file_extension": ".py",
   "mimetype": "text/x-python",
   "name": "python",
   "nbconvert_exporter": "python",
   "pygments_lexer": "ipython3",
   "version": "3.9.13"
  }
 },
 "nbformat": 4,
 "nbformat_minor": 2
}
